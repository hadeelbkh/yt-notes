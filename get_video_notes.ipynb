{
  "cells": [
    {
      "cell_type": "code",
      "source": [
        "from google.colab import drive\n",
        "drive.mount('/content/drive')"
      ],
      "metadata": {
        "colab": {
          "base_uri": "https://localhost:8080/"
        },
        "id": "dcfEYef2Gd6c",
        "outputId": "8aaf1b31-6d42-45f2-9371-477c4a3fa2de"
      },
      "id": "dcfEYef2Gd6c",
      "execution_count": null,
      "outputs": [
        {
          "output_type": "stream",
          "name": "stdout",
          "text": [
            "Mounted at /content/drive\n"
          ]
        }
      ]
    },
    {
      "cell_type": "code",
      "source": [
        "import os\n",
        "\n",
        "project_path = '/content/drive/MyDrive/YT-Notes'\n",
        "\n",
        "# Create the folder if it doesn't exist\n",
        "if not os.path.exists(project_path):\n",
        "    os.makedirs(project_path)\n",
        "    print(f\"Folder '{project_path}' created successfully!\")\n",
        "else:\n",
        "    print(f\"Folder '{project_path}' already exists.\")\n"
      ],
      "metadata": {
        "colab": {
          "base_uri": "https://localhost:8080/"
        },
        "id": "8HGioO6MGlHs",
        "outputId": "f40b40da-49bd-43d8-9cee-724ecb5c41ed"
      },
      "id": "8HGioO6MGlHs",
      "execution_count": null,
      "outputs": [
        {
          "output_type": "stream",
          "name": "stdout",
          "text": [
            "Folder '/content/drive/MyDrive/YT-Notes' already exists.\n"
          ]
        }
      ]
    },
    {
      "cell_type": "code",
      "source": [
        "!pip install youtube-transcript-api google-generativeai chromadb"
      ],
      "metadata": {
        "colab": {
          "base_uri": "https://localhost:8080/"
        },
        "collapsed": true,
        "id": "IfunzNy9GG94",
        "outputId": "ebfc25c5-d25e-419c-d46f-443332077193"
      },
      "id": "IfunzNy9GG94",
      "execution_count": null,
      "outputs": [
        {
          "output_type": "stream",
          "name": "stdout",
          "text": [
            "Requirement already satisfied: youtube-transcript-api in /usr/local/lib/python3.11/dist-packages (1.1.0)\n",
            "Requirement already satisfied: google-generativeai in /usr/local/lib/python3.11/dist-packages (0.8.5)\n",
            "Requirement already satisfied: chromadb in /usr/local/lib/python3.11/dist-packages (1.0.13)\n",
            "Requirement already satisfied: defusedxml<0.8.0,>=0.7.1 in /usr/local/lib/python3.11/dist-packages (from youtube-transcript-api) (0.7.1)\n",
            "Requirement already satisfied: requests in /usr/local/lib/python3.11/dist-packages (from youtube-transcript-api) (2.32.3)\n",
            "Requirement already satisfied: google-ai-generativelanguage==0.6.15 in /usr/local/lib/python3.11/dist-packages (from google-generativeai) (0.6.15)\n",
            "Requirement already satisfied: google-api-core in /usr/local/lib/python3.11/dist-packages (from google-generativeai) (2.25.1)\n",
            "Requirement already satisfied: google-api-python-client in /usr/local/lib/python3.11/dist-packages (from google-generativeai) (2.172.0)\n",
            "Requirement already satisfied: google-auth>=2.15.0 in /usr/local/lib/python3.11/dist-packages (from google-generativeai) (2.38.0)\n",
            "Requirement already satisfied: protobuf in /usr/local/lib/python3.11/dist-packages (from google-generativeai) (5.29.5)\n",
            "Requirement already satisfied: pydantic in /usr/local/lib/python3.11/dist-packages (from google-generativeai) (2.11.7)\n",
            "Requirement already satisfied: tqdm in /usr/local/lib/python3.11/dist-packages (from google-generativeai) (4.67.1)\n",
            "Requirement already satisfied: typing-extensions in /usr/local/lib/python3.11/dist-packages (from google-generativeai) (4.14.0)\n",
            "Requirement already satisfied: proto-plus<2.0.0dev,>=1.22.3 in /usr/local/lib/python3.11/dist-packages (from google-ai-generativelanguage==0.6.15->google-generativeai) (1.26.1)\n",
            "Requirement already satisfied: build>=1.0.3 in /usr/local/lib/python3.11/dist-packages (from chromadb) (1.2.2.post1)\n",
            "Requirement already satisfied: pybase64>=1.4.1 in /usr/local/lib/python3.11/dist-packages (from chromadb) (1.4.1)\n",
            "Requirement already satisfied: uvicorn>=0.18.3 in /usr/local/lib/python3.11/dist-packages (from uvicorn[standard]>=0.18.3->chromadb) (0.34.3)\n",
            "Requirement already satisfied: numpy>=1.22.5 in /usr/local/lib/python3.11/dist-packages (from chromadb) (2.0.2)\n",
            "Requirement already satisfied: posthog>=2.4.0 in /usr/local/lib/python3.11/dist-packages (from chromadb) (5.1.0)\n",
            "Requirement already satisfied: onnxruntime>=1.14.1 in /usr/local/lib/python3.11/dist-packages (from chromadb) (1.22.0)\n",
            "Requirement already satisfied: opentelemetry-api>=1.2.0 in /usr/local/lib/python3.11/dist-packages (from chromadb) (1.34.1)\n",
            "Requirement already satisfied: opentelemetry-exporter-otlp-proto-grpc>=1.2.0 in /usr/local/lib/python3.11/dist-packages (from chromadb) (1.34.1)\n",
            "Requirement already satisfied: opentelemetry-sdk>=1.2.0 in /usr/local/lib/python3.11/dist-packages (from chromadb) (1.34.1)\n",
            "Requirement already satisfied: tokenizers>=0.13.2 in /usr/local/lib/python3.11/dist-packages (from chromadb) (0.21.1)\n",
            "Requirement already satisfied: pypika>=0.48.9 in /usr/local/lib/python3.11/dist-packages (from chromadb) (0.48.9)\n",
            "Requirement already satisfied: overrides>=7.3.1 in /usr/local/lib/python3.11/dist-packages (from chromadb) (7.7.0)\n",
            "Requirement already satisfied: importlib-resources in /usr/local/lib/python3.11/dist-packages (from chromadb) (6.5.2)\n",
            "Requirement already satisfied: grpcio>=1.58.0 in /usr/local/lib/python3.11/dist-packages (from chromadb) (1.73.0)\n",
            "Requirement already satisfied: bcrypt>=4.0.1 in /usr/local/lib/python3.11/dist-packages (from chromadb) (4.3.0)\n",
            "Requirement already satisfied: typer>=0.9.0 in /usr/local/lib/python3.11/dist-packages (from chromadb) (0.16.0)\n",
            "Requirement already satisfied: kubernetes>=28.1.0 in /usr/local/lib/python3.11/dist-packages (from chromadb) (33.1.0)\n",
            "Requirement already satisfied: tenacity>=8.2.3 in /usr/local/lib/python3.11/dist-packages (from chromadb) (9.1.2)\n",
            "Requirement already satisfied: pyyaml>=6.0.0 in /usr/local/lib/python3.11/dist-packages (from chromadb) (6.0.2)\n",
            "Requirement already satisfied: mmh3>=4.0.1 in /usr/local/lib/python3.11/dist-packages (from chromadb) (5.1.0)\n",
            "Requirement already satisfied: orjson>=3.9.12 in /usr/local/lib/python3.11/dist-packages (from chromadb) (3.10.18)\n",
            "Requirement already satisfied: httpx>=0.27.0 in /usr/local/lib/python3.11/dist-packages (from chromadb) (0.28.1)\n",
            "Requirement already satisfied: rich>=10.11.0 in /usr/local/lib/python3.11/dist-packages (from chromadb) (13.9.4)\n",
            "Requirement already satisfied: jsonschema>=4.19.0 in /usr/local/lib/python3.11/dist-packages (from chromadb) (4.24.0)\n",
            "Requirement already satisfied: packaging>=19.1 in /usr/local/lib/python3.11/dist-packages (from build>=1.0.3->chromadb) (24.2)\n",
            "Requirement already satisfied: pyproject_hooks in /usr/local/lib/python3.11/dist-packages (from build>=1.0.3->chromadb) (1.2.0)\n",
            "Requirement already satisfied: googleapis-common-protos<2.0.0,>=1.56.2 in /usr/local/lib/python3.11/dist-packages (from google-api-core->google-generativeai) (1.70.0)\n",
            "Requirement already satisfied: cachetools<6.0,>=2.0.0 in /usr/local/lib/python3.11/dist-packages (from google-auth>=2.15.0->google-generativeai) (5.5.2)\n",
            "Requirement already satisfied: pyasn1-modules>=0.2.1 in /usr/local/lib/python3.11/dist-packages (from google-auth>=2.15.0->google-generativeai) (0.4.2)\n",
            "Requirement already satisfied: rsa<5,>=3.1.4 in /usr/local/lib/python3.11/dist-packages (from google-auth>=2.15.0->google-generativeai) (4.9.1)\n",
            "Requirement already satisfied: anyio in /usr/local/lib/python3.11/dist-packages (from httpx>=0.27.0->chromadb) (4.9.0)\n",
            "Requirement already satisfied: certifi in /usr/local/lib/python3.11/dist-packages (from httpx>=0.27.0->chromadb) (2025.6.15)\n",
            "Requirement already satisfied: httpcore==1.* in /usr/local/lib/python3.11/dist-packages (from httpx>=0.27.0->chromadb) (1.0.9)\n",
            "Requirement already satisfied: idna in /usr/local/lib/python3.11/dist-packages (from httpx>=0.27.0->chromadb) (3.10)\n",
            "Requirement already satisfied: h11>=0.16 in /usr/local/lib/python3.11/dist-packages (from httpcore==1.*->httpx>=0.27.0->chromadb) (0.16.0)\n",
            "Requirement already satisfied: attrs>=22.2.0 in /usr/local/lib/python3.11/dist-packages (from jsonschema>=4.19.0->chromadb) (25.3.0)\n",
            "Requirement already satisfied: jsonschema-specifications>=2023.03.6 in /usr/local/lib/python3.11/dist-packages (from jsonschema>=4.19.0->chromadb) (2025.4.1)\n",
            "Requirement already satisfied: referencing>=0.28.4 in /usr/local/lib/python3.11/dist-packages (from jsonschema>=4.19.0->chromadb) (0.36.2)\n",
            "Requirement already satisfied: rpds-py>=0.7.1 in /usr/local/lib/python3.11/dist-packages (from jsonschema>=4.19.0->chromadb) (0.25.1)\n",
            "Requirement already satisfied: six>=1.9.0 in /usr/local/lib/python3.11/dist-packages (from kubernetes>=28.1.0->chromadb) (1.17.0)\n",
            "Requirement already satisfied: python-dateutil>=2.5.3 in /usr/local/lib/python3.11/dist-packages (from kubernetes>=28.1.0->chromadb) (2.9.0.post0)\n",
            "Requirement already satisfied: websocket-client!=0.40.0,!=0.41.*,!=0.42.*,>=0.32.0 in /usr/local/lib/python3.11/dist-packages (from kubernetes>=28.1.0->chromadb) (1.8.0)\n",
            "Requirement already satisfied: requests-oauthlib in /usr/local/lib/python3.11/dist-packages (from kubernetes>=28.1.0->chromadb) (2.0.0)\n",
            "Requirement already satisfied: oauthlib>=3.2.2 in /usr/local/lib/python3.11/dist-packages (from kubernetes>=28.1.0->chromadb) (3.2.2)\n",
            "Requirement already satisfied: urllib3>=1.24.2 in /usr/local/lib/python3.11/dist-packages (from kubernetes>=28.1.0->chromadb) (2.4.0)\n",
            "Requirement already satisfied: durationpy>=0.7 in /usr/local/lib/python3.11/dist-packages (from kubernetes>=28.1.0->chromadb) (0.10)\n",
            "Requirement already satisfied: coloredlogs in /usr/local/lib/python3.11/dist-packages (from onnxruntime>=1.14.1->chromadb) (15.0.1)\n",
            "Requirement already satisfied: flatbuffers in /usr/local/lib/python3.11/dist-packages (from onnxruntime>=1.14.1->chromadb) (25.2.10)\n",
            "Requirement already satisfied: sympy in /usr/local/lib/python3.11/dist-packages (from onnxruntime>=1.14.1->chromadb) (1.13.1)\n",
            "Requirement already satisfied: importlib-metadata<8.8.0,>=6.0 in /usr/local/lib/python3.11/dist-packages (from opentelemetry-api>=1.2.0->chromadb) (8.7.0)\n",
            "Requirement already satisfied: opentelemetry-exporter-otlp-proto-common==1.34.1 in /usr/local/lib/python3.11/dist-packages (from opentelemetry-exporter-otlp-proto-grpc>=1.2.0->chromadb) (1.34.1)\n",
            "Requirement already satisfied: opentelemetry-proto==1.34.1 in /usr/local/lib/python3.11/dist-packages (from opentelemetry-exporter-otlp-proto-grpc>=1.2.0->chromadb) (1.34.1)\n",
            "Requirement already satisfied: opentelemetry-semantic-conventions==0.55b1 in /usr/local/lib/python3.11/dist-packages (from opentelemetry-sdk>=1.2.0->chromadb) (0.55b1)\n",
            "Requirement already satisfied: backoff>=1.10.0 in /usr/local/lib/python3.11/dist-packages (from posthog>=2.4.0->chromadb) (2.2.1)\n",
            "Requirement already satisfied: distro>=1.5.0 in /usr/local/lib/python3.11/dist-packages (from posthog>=2.4.0->chromadb) (1.9.0)\n",
            "Requirement already satisfied: annotated-types>=0.6.0 in /usr/local/lib/python3.11/dist-packages (from pydantic->google-generativeai) (0.7.0)\n",
            "Requirement already satisfied: pydantic-core==2.33.2 in /usr/local/lib/python3.11/dist-packages (from pydantic->google-generativeai) (2.33.2)\n",
            "Requirement already satisfied: typing-inspection>=0.4.0 in /usr/local/lib/python3.11/dist-packages (from pydantic->google-generativeai) (0.4.1)\n",
            "Requirement already satisfied: charset-normalizer<4,>=2 in /usr/local/lib/python3.11/dist-packages (from requests->youtube-transcript-api) (3.4.2)\n",
            "Requirement already satisfied: markdown-it-py>=2.2.0 in /usr/local/lib/python3.11/dist-packages (from rich>=10.11.0->chromadb) (3.0.0)\n",
            "Requirement already satisfied: pygments<3.0.0,>=2.13.0 in /usr/local/lib/python3.11/dist-packages (from rich>=10.11.0->chromadb) (2.19.1)\n",
            "Requirement already satisfied: huggingface-hub<1.0,>=0.16.4 in /usr/local/lib/python3.11/dist-packages (from tokenizers>=0.13.2->chromadb) (0.33.0)\n",
            "Requirement already satisfied: click>=8.0.0 in /usr/local/lib/python3.11/dist-packages (from typer>=0.9.0->chromadb) (8.2.1)\n",
            "Requirement already satisfied: shellingham>=1.3.0 in /usr/local/lib/python3.11/dist-packages (from typer>=0.9.0->chromadb) (1.5.4)\n",
            "Requirement already satisfied: httptools>=0.6.3 in /usr/local/lib/python3.11/dist-packages (from uvicorn[standard]>=0.18.3->chromadb) (0.6.4)\n",
            "Requirement already satisfied: python-dotenv>=0.13 in /usr/local/lib/python3.11/dist-packages (from uvicorn[standard]>=0.18.3->chromadb) (1.1.0)\n",
            "Requirement already satisfied: uvloop>=0.15.1 in /usr/local/lib/python3.11/dist-packages (from uvicorn[standard]>=0.18.3->chromadb) (0.21.0)\n",
            "Requirement already satisfied: watchfiles>=0.13 in /usr/local/lib/python3.11/dist-packages (from uvicorn[standard]>=0.18.3->chromadb) (1.1.0)\n",
            "Requirement already satisfied: websockets>=10.4 in /usr/local/lib/python3.11/dist-packages (from uvicorn[standard]>=0.18.3->chromadb) (15.0.1)\n",
            "Requirement already satisfied: httplib2<1.0.0,>=0.19.0 in /usr/local/lib/python3.11/dist-packages (from google-api-python-client->google-generativeai) (0.22.0)\n",
            "Requirement already satisfied: google-auth-httplib2<1.0.0,>=0.2.0 in /usr/local/lib/python3.11/dist-packages (from google-api-python-client->google-generativeai) (0.2.0)\n",
            "Requirement already satisfied: uritemplate<5,>=3.0.1 in /usr/local/lib/python3.11/dist-packages (from google-api-python-client->google-generativeai) (4.2.0)\n",
            "Requirement already satisfied: grpcio-status<2.0.0,>=1.33.2 in /usr/local/lib/python3.11/dist-packages (from google-api-core[grpc]!=2.0.*,!=2.1.*,!=2.10.*,!=2.2.*,!=2.3.*,!=2.4.*,!=2.5.*,!=2.6.*,!=2.7.*,!=2.8.*,!=2.9.*,<3.0.0dev,>=1.34.1->google-ai-generativelanguage==0.6.15->google-generativeai) (1.71.0)\n",
            "Requirement already satisfied: pyparsing!=3.0.0,!=3.0.1,!=3.0.2,!=3.0.3,<4,>=2.4.2 in /usr/local/lib/python3.11/dist-packages (from httplib2<1.0.0,>=0.19.0->google-api-python-client->google-generativeai) (3.2.3)\n",
            "Requirement already satisfied: filelock in /usr/local/lib/python3.11/dist-packages (from huggingface-hub<1.0,>=0.16.4->tokenizers>=0.13.2->chromadb) (3.18.0)\n",
            "Requirement already satisfied: fsspec>=2023.5.0 in /usr/local/lib/python3.11/dist-packages (from huggingface-hub<1.0,>=0.16.4->tokenizers>=0.13.2->chromadb) (2025.3.2)\n",
            "Requirement already satisfied: hf-xet<2.0.0,>=1.1.2 in /usr/local/lib/python3.11/dist-packages (from huggingface-hub<1.0,>=0.16.4->tokenizers>=0.13.2->chromadb) (1.1.3)\n",
            "Requirement already satisfied: zipp>=3.20 in /usr/local/lib/python3.11/dist-packages (from importlib-metadata<8.8.0,>=6.0->opentelemetry-api>=1.2.0->chromadb) (3.23.0)\n",
            "Requirement already satisfied: mdurl~=0.1 in /usr/local/lib/python3.11/dist-packages (from markdown-it-py>=2.2.0->rich>=10.11.0->chromadb) (0.1.2)\n",
            "Requirement already satisfied: pyasn1<0.7.0,>=0.6.1 in /usr/local/lib/python3.11/dist-packages (from pyasn1-modules>=0.2.1->google-auth>=2.15.0->google-generativeai) (0.6.1)\n",
            "Requirement already satisfied: sniffio>=1.1 in /usr/local/lib/python3.11/dist-packages (from anyio->httpx>=0.27.0->chromadb) (1.3.1)\n",
            "Requirement already satisfied: humanfriendly>=9.1 in /usr/local/lib/python3.11/dist-packages (from coloredlogs->onnxruntime>=1.14.1->chromadb) (10.0)\n",
            "Requirement already satisfied: mpmath<1.4,>=1.1.0 in /usr/local/lib/python3.11/dist-packages (from sympy->onnxruntime>=1.14.1->chromadb) (1.3.0)\n"
          ]
        }
      ]
    },
    {
      "cell_type": "markdown",
      "id": "fff9d1ad",
      "metadata": {
        "id": "fff9d1ad"
      },
      "source": [
        "Import modules"
      ]
    },
    {
      "cell_type": "code",
      "execution_count": null,
      "id": "17311c3f",
      "metadata": {
        "id": "17311c3f"
      },
      "outputs": [],
      "source": [
        "from youtube_transcript_api import YouTubeTranscriptApi\n",
        "from youtube_transcript_api.formatters import TextFormatter\n",
        "\n",
        "import google.generativeai as genai\n",
        "\n",
        "import chromadb\n",
        "from chromadb.utils import embedding_functions"
      ]
    },
    {
      "cell_type": "markdown",
      "id": "2398a68b",
      "metadata": {
        "id": "2398a68b"
      },
      "source": [
        "Set up resources"
      ]
    },
    {
      "cell_type": "code",
      "source": [
        "from google.colab import userdata\n",
        "import os\n",
        "\n",
        "# Retrieve the Secrets\n",
        "GEMINI_API_KEY = userdata.get('GEMINI_API_KEY')\n",
        "CHROMA_GOOGLE_GENAI_API_KEY = userdata.get('CHROMA_GOOGLE_GENAI_API_KEY')\n",
        "\n",
        "# Set them as environment variables\n",
        "os.environ['GEMINI_API_KEY'] = GEMINI_API_KEY\n",
        "os.environ['CHROMA_GOOGLE_GENAI_API_KEY'] = CHROMA_GOOGLE_GENAI_API_KEY"
      ],
      "metadata": {
        "id": "uFQw56aVJP8V"
      },
      "id": "uFQw56aVJP8V",
      "execution_count": 14,
      "outputs": []
    },
    {
      "cell_type": "code",
      "execution_count": 15,
      "id": "3dd741f5",
      "metadata": {
        "id": "3dd741f5"
      },
      "outputs": [],
      "source": [
        "# Instantiate Gemini model\n",
        "gemini_model = genai.GenerativeModel('models/gemini-1.5-flash')\n",
        "\n",
        "# Load the vector database\n",
        "chroma_client = chromadb.PersistentClient(path='/content/drive/MyDrive/YT-Notes/my_vectordb')\n",
        "\n",
        "# Select an embedding function\n",
        "gemini_ef = embedding_functions.GoogleGenerativeAiEmbeddingFunction(api_key=GEMINI_API_KEY)\n",
        "\n",
        "# Load collection\n",
        "chroma_collection = chroma_client.get_or_create_collection(name='yt_notes', embedding_function=gemini_ef)"
      ]
    },
    {
      "cell_type": "markdown",
      "id": "4230a12e",
      "metadata": {
        "id": "4230a12e"
      },
      "source": [
        "Inputs:"
      ]
    },
    {
      "cell_type": "code",
      "execution_count": 25,
      "id": "ba0178a5",
      "metadata": {
        "id": "ba0178a5"
      },
      "outputs": [],
      "source": [
        "# Some youtube videos:\n",
        "# https://www.youtube.com/watch?v=RoR4XJw8wIc\n",
        "# https://www.youtube.com/watch?v=3E0dqwQwX4k\n",
        "# https://www.youtube.com/watch?v=eE6yvtKLwvk\n",
        "\n",
        "yt_video_id = 'eE6yvtKLwvk'\n",
        "\n",
        "# Add a prompt\n",
        "prompt = \"Extract the key points from the video transcript.\""
      ]
    },
    {
      "cell_type": "markdown",
      "id": "b45291bb",
      "metadata": {
        "id": "b45291bb"
      },
      "source": [
        "Extract transcript"
      ]
    },
    {
      "cell_type": "code",
      "execution_count": 26,
      "id": "6cb73bdc",
      "metadata": {
        "id": "6cb73bdc"
      },
      "outputs": [],
      "source": [
        "transcript = YouTubeTranscriptApi.get_transcript(yt_video_id, languages=['en', 'en-US', 'en-GB'])\n",
        "formatted_transcript = \"\\n\".join(entry['text'] for entry in transcript)\n",
        "\n",
        "with open(\"/content/drive/MyDrive/YT-Notes/temp_transcript.txt\", \"w\", encoding='utf-8') as file:\n",
        "    file.write(formatted_transcript)"
      ]
    },
    {
      "cell_type": "markdown",
      "id": "44f8134c",
      "metadata": {
        "id": "44f8134c"
      },
      "source": [
        "Generate notes"
      ]
    },
    {
      "cell_type": "code",
      "execution_count": 27,
      "id": "f5feade1",
      "metadata": {
        "id": "f5feade1"
      },
      "outputs": [],
      "source": [
        "response = gemini_model.generate_content(prompt + formatted_transcript, stream=False)\n",
        "\n",
        "with open(\"/content/drive/MyDrive/YT-Notes/temp_notes.txt\", \"w\", encoding='utf-8') as file:\n",
        "    file.write(response.text)"
      ]
    },
    {
      "cell_type": "markdown",
      "id": "14cc9fd5",
      "metadata": {
        "id": "14cc9fd5"
      },
      "source": [
        "Save notes"
      ]
    },
    {
      "cell_type": "code",
      "execution_count": 28,
      "id": "044f19dd",
      "metadata": {
        "id": "044f19dd",
        "outputId": "045cbeda-7563-48b3-f7ee-9a84fdd83af3",
        "colab": {
          "base_uri": "https://localhost:8080/",
          "height": 616
        },
        "collapsed": true
      },
      "outputs": [
        {
          "output_type": "execute_result",
          "data": {
            "text/plain": [
              "{'ids': ['eE6yvtKLwvk'],\n",
              " 'embeddings': None,\n",
              " 'documents': ['This video transcript provides a roadmap for learning AI and machine learning, categorized into key areas and recommending specific resources. Here\\'s a summary of the key points:\\n\\n\\n**I. Programming and Software Engineering:**\\n\\n* **Python:**  Essential for AI, used extensively in machine learning and AI infrastructure.  The speaker recommends the \"Learn Python\" course (freeCodeCamp), \"Python for Everybody\" specialization (Coursera), HackerRank, and LeetCode for practice and interview prep.  Neat Code is suggested for data structures, algorithms, and system design.  Harvard\\'s CS50 is recommended for complete beginners.  **Key takeaway: Practice is paramount.**\\n\\n**II. Maths and Stats:**\\n\\n* **Essential Math Skills:**  While some argue it\\'s not strictly necessary, the speaker emphasizes a strong foundation in statistics, linear algebra, and calculus for advanced AI work.  They recommend:\\n    * *Practical Statistics for Data Science* (textbook): Covers statistics applied to data science, ML, and AI.\\n    * *Mathematics for Machine Learning* (textbook): Covers linear algebra and calculus relevant to ML.\\n    * *Mathematics for Machine Learning and Deep Learning* specialization (Coursera):  A course focused on relevant math concepts.\\n\\n**III. Machine Learning:**\\n\\n* **Foundational Knowledge:**  The speaker highlights the importance of solid machine learning knowledge.  Resources include:\\n    * *Hands-On Machine Learning with Scikit-Learn, Keras & TensorFlow* (textbook):  The speaker\\'s top recommendation, covering fundamentals, applications, and advanced topics.\\n    * *Machine Learning Specialization* (Coursera):  A highly-rated course by Andrew Ng.\\n    * *The 100-Page Machine Learning Book*:  A concise overview for quick reference and learning new concepts.\\n    * *Elements of Statistical Learning*:  A more traditional, in-depth text focused on statistical learning theory.\\n    * *Zero to Mastery\\'s Complete AI, Machine Learning & Data Science Boot Camp*:  A boot camp focused on project-based learning and career preparation.\\n\\n**IV. Deep Learning and LLMs:**\\n\\n* **Deep Learning Libraries:**  PyTorch is recommended over TensorFlow due to its prevalence in research and industry.\\n* **Key Resources:**\\n    * *Deep Learning Specialization* (Coursera):  Andrew Ng\\'s course covering CNNs, RNNs, and an introduction to LLMs.\\n    * *Introduction to LLMs* video (Andrej Karpathy): A high-level overview of the current LLM landscape.\\n    * *Neural Networks: Zero to Hero* course (Andrej Karpathy):  A course building a GPT model from scratch.\\n    * *Hands-On Large Language Models* (textbook): A textbook by Jay Alammar (author of the popular \"Illustrated Transformer\" blog post) focusing on LLMs and transformers.\\n\\n**V. AI Engineering:**\\n\\n* **Productionizing AI:**  This section focuses on deploying AI models for real-world applications.  The speaker recommends:\\n    * *Practical MLOps*:  Covers productionizing traditional ML algorithms.\\n    * *AI Engineering* (textbook): A book by Chip Huyen, focusing on deploying AI/ML systems.\\n\\n\\n**Overall Recommendations:**\\n\\n* **Prioritize Practice:**  The speaker stresses the importance of hands-on experience through projects.\\n* **Start with Fundamentals:**  Begin with basic programming and mathematics before tackling advanced topics.\\n* **Iterative Learning:**  Focus on concrete projects and learn on demand rather than trying to learn everything at once.\\n* **Personalized Coaching:** The speaker also offers personalized coaching services.\\n\\n\\nThe speaker emphasizes that this is a comprehensive but not exhaustive list.  The core message is to choose resources that align with your learning style and focus on practical application.\\n'],\n",
              " 'uris': None,\n",
              " 'included': ['documents'],\n",
              " 'data': None,\n",
              " 'metadatas': None}"
            ]
          },
          "metadata": {},
          "execution_count": 28
        }
      ],
      "source": [
        "with open(\"/content/drive/MyDrive/YT-Notes/temp_notes.txt\", \"r\", encoding='utf-8') as file:\n",
        "    notes = file.read()\n",
        "\n",
        "# Insert/update the notes in the vector database\n",
        "chroma_collection.upsert(\n",
        "    documents=[notes],\n",
        "    ids=[yt_video_id]\n",
        ")\n",
        "\n",
        "# Validate the insertion\n",
        "result = chroma_collection.get(yt_video_id, include=['documents'])\n",
        "result"
      ]
    },
    {
      "cell_type": "markdown",
      "source": [
        "Let's see the database records"
      ],
      "metadata": {
        "id": "tv9cXSLZMTLT"
      },
      "id": "tv9cXSLZMTLT"
    },
    {
      "cell_type": "code",
      "source": [
        "# Fetch from 'yt_notes' collection\n",
        "results = chroma_collection.get(include=[\"documents\", \"embeddings\"])\n",
        "print(\"IDs:\", results[\"ids\"])\n",
        "print(\"Documents:\", results[\"documents\"])"
      ],
      "metadata": {
        "colab": {
          "base_uri": "https://localhost:8080/"
        },
        "id": "GV-t1u3POwsO",
        "outputId": "ff0aa088-d133-417b-9f88-f12f3e7afe00"
      },
      "id": "GV-t1u3POwsO",
      "execution_count": 36,
      "outputs": [
        {
          "output_type": "stream",
          "name": "stdout",
          "text": [
            "IDs: ['RoR4XJw8wIc', '3E0dqwQwX4k', 'eE6yvtKLwvk']\n",
            "Documents: ['LangChain is a popular Python framework for building AI applications with large language models (LLMs).  Key features and benefits include:\\n\\n* **Ease of building end-to-end LLM applications:**  It simplifies the process of combining LLMs with various data sources (databases, PDFs, emails), managing prompts, storing conversation history, and integrating multiple models or external tools.\\n\\n* **Composability:** It allows developers to combine different components (LLMs, prompts, memory, indices, agents) in a modular and flexible way.\\n\\n* **Six Key Modules:**\\n    * **LLMs:** Provides a unified interface for accessing various LLMs (OpenAI, Hugging Face, Cohere, etc.).\\n    * **Prompts:** Offers tools for prompt management, optimization, and serialization.\\n    * **Chains:** Enables sequences of LLM calls, beyond single interactions.\\n    * **Memory:** Provides a standard interface and implementations for storing conversation history.\\n    * **Indices:** Includes functions for integrating LLMs with user data via document loaders and vector stores.\\n    * **Agents & Tools:** Allows creating agents that use external tools (Google Search, Wikipedia, calculators) to enhance capabilities.\\n\\n* **Rapid Growth and Community Support:**  LangChain has quickly gained popularity (20,000+ GitHub stars) and a strong community.  Recent Series A funding further validates its potential.\\n', 'This video outlines a system for effective programming learning, focusing on retention and application rather than just memorization.  Key points include:\\n\\n**1. Define a Specific Goal:** Instead of vaguely aiming to \"learn to code,\" set a concrete, achievable goal (e.g., build a real-time object detection system). This provides focus and direction for learning.\\n\\n**2. Create a Roadmap:** Research the topic, using resources like YouTube, Medium articles, and official documentation, to create a structured learning plan.  Don\\'t learn randomly.\\n\\n**3. Utilize a Knowledge Management Tool (like Recall):**  The speaker advocates for using a tool like Recall to summarize content, create a unified knowledge base, and track progress.  This helps organize and connect learned information.  Key features highlighted are summarization, question generation, and augmented browsing (automatically connecting related concepts).\\n\\n**4. Track Progress Consistently:**  Visual tracking of progress is crucial for motivation.  This involves documenting daily activities, resources used, and future steps.  Even simple daily journal entries are recommended to build discipline.\\n\\n**5. Constantly Challenge Yourself:**  True learning involves applying knowledge, not just passively understanding concepts.  The speaker suggests using AI (within Recall) to generate challenging quiz questions and immediately implementing new concepts through coding, even if it leads to failure.  Errors are seen as learning opportunities.\\n\\n**6. Leverage Spaced Repetition:** The system incorporates spaced repetition to review concepts just before they\\'re about to be forgotten. This strengthens problem-solving skills.\\n\\n**7. Build Interconnected Knowledge:**  Learning should be viewed as building a web of interconnected concepts, not just filling a bucket with information.  This involves actively making connections between different topics.  The speaker demonstrates this within Recall by manually linking related concepts.\\n\\n**8.  The 4-Step Learning Process:** Learn, Practice, Apply, Review.  The emphasis is on the often-neglected \"Review\" step, facilitated by tools like Recall\\'s spaced repetition features.\\n\\n**9.  Methodology over Talent:** The speaker argues that consistent methodology, focusing on retention and application, is more important than raw talent for long-term success in programming.\\n', 'This video transcript provides a roadmap for learning AI and machine learning, categorized into key areas and recommending specific resources. Here\\'s a summary of the key points:\\n\\n\\n**I. Programming and Software Engineering:**\\n\\n* **Python:**  Essential for AI, used extensively in machine learning and AI infrastructure.  The speaker recommends the \"Learn Python\" course (freeCodeCamp), \"Python for Everybody\" specialization (Coursera), HackerRank, and LeetCode for practice and interview prep.  Neat Code is suggested for data structures, algorithms, and system design.  Harvard\\'s CS50 is recommended for complete beginners.  **Key takeaway: Practice is paramount.**\\n\\n**II. Maths and Stats:**\\n\\n* **Essential Math Skills:**  While some argue it\\'s not strictly necessary, the speaker emphasizes a strong foundation in statistics, linear algebra, and calculus for advanced AI work.  They recommend:\\n    * *Practical Statistics for Data Science* (textbook): Covers statistics applied to data science, ML, and AI.\\n    * *Mathematics for Machine Learning* (textbook): Covers linear algebra and calculus relevant to ML.\\n    * *Mathematics for Machine Learning and Deep Learning* specialization (Coursera):  A course focused on relevant math concepts.\\n\\n**III. Machine Learning:**\\n\\n* **Foundational Knowledge:**  The speaker highlights the importance of solid machine learning knowledge.  Resources include:\\n    * *Hands-On Machine Learning with Scikit-Learn, Keras & TensorFlow* (textbook):  The speaker\\'s top recommendation, covering fundamentals, applications, and advanced topics.\\n    * *Machine Learning Specialization* (Coursera):  A highly-rated course by Andrew Ng.\\n    * *The 100-Page Machine Learning Book*:  A concise overview for quick reference and learning new concepts.\\n    * *Elements of Statistical Learning*:  A more traditional, in-depth text focused on statistical learning theory.\\n    * *Zero to Mastery\\'s Complete AI, Machine Learning & Data Science Boot Camp*:  A boot camp focused on project-based learning and career preparation.\\n\\n**IV. Deep Learning and LLMs:**\\n\\n* **Deep Learning Libraries:**  PyTorch is recommended over TensorFlow due to its prevalence in research and industry.\\n* **Key Resources:**\\n    * *Deep Learning Specialization* (Coursera):  Andrew Ng\\'s course covering CNNs, RNNs, and an introduction to LLMs.\\n    * *Introduction to LLMs* video (Andrej Karpathy): A high-level overview of the current LLM landscape.\\n    * *Neural Networks: Zero to Hero* course (Andrej Karpathy):  A course building a GPT model from scratch.\\n    * *Hands-On Large Language Models* (textbook): A textbook by Jay Alammar (author of the popular \"Illustrated Transformer\" blog post) focusing on LLMs and transformers.\\n\\n**V. AI Engineering:**\\n\\n* **Productionizing AI:**  This section focuses on deploying AI models for real-world applications.  The speaker recommends:\\n    * *Practical MLOps*:  Covers productionizing traditional ML algorithms.\\n    * *AI Engineering* (textbook): A book by Chip Huyen, focusing on deploying AI/ML systems.\\n\\n\\n**Overall Recommendations:**\\n\\n* **Prioritize Practice:**  The speaker stresses the importance of hands-on experience through projects.\\n* **Start with Fundamentals:**  Begin with basic programming and mathematics before tackling advanced topics.\\n* **Iterative Learning:**  Focus on concrete projects and learn on demand rather than trying to learn everything at once.\\n* **Personalized Coaching:** The speaker also offers personalized coaching services.\\n\\n\\nThe speaker emphasizes that this is a comprehensive but not exhaustive list.  The core message is to choose resources that align with your learning style and focus on practical application.\\n']\n"
          ]
        }
      ]
    },
    {
      "cell_type": "code",
      "source": [
        "import pandas as pd\n",
        "\n",
        "df = pd.DataFrame({\n",
        "    \"ID\": results[\"ids\"],\n",
        "    \"Document\": results[\"documents\"],\n",
        "    \"Embedding Length\": [len(vec) for vec in results[\"embeddings\"]]\n",
        "})\n",
        "\n",
        "df.head()"
      ],
      "metadata": {
        "colab": {
          "base_uri": "https://localhost:8080/",
          "height": 143
        },
        "id": "FSTvw9saOXJl",
        "outputId": "fd7a01f9-fcbc-433e-ac57-d3d88f43deef"
      },
      "id": "FSTvw9saOXJl",
      "execution_count": 35,
      "outputs": [
        {
          "output_type": "execute_result",
          "data": {
            "text/plain": [
              "            ID                                           Document  \\\n",
              "0  RoR4XJw8wIc  LangChain is a popular Python framework for bu...   \n",
              "1  3E0dqwQwX4k  This video outlines a system for effective pro...   \n",
              "2  eE6yvtKLwvk  This video transcript provides a roadmap for l...   \n",
              "\n",
              "   Embedding Length  \n",
              "0               768  \n",
              "1               768  \n",
              "2               768  "
            ],
            "text/html": [
              "\n",
              "  <div id=\"df-c999b45d-496c-47f5-b76c-27a45c4aedd7\" class=\"colab-df-container\">\n",
              "    <div>\n",
              "<style scoped>\n",
              "    .dataframe tbody tr th:only-of-type {\n",
              "        vertical-align: middle;\n",
              "    }\n",
              "\n",
              "    .dataframe tbody tr th {\n",
              "        vertical-align: top;\n",
              "    }\n",
              "\n",
              "    .dataframe thead th {\n",
              "        text-align: right;\n",
              "    }\n",
              "</style>\n",
              "<table border=\"1\" class=\"dataframe\">\n",
              "  <thead>\n",
              "    <tr style=\"text-align: right;\">\n",
              "      <th></th>\n",
              "      <th>ID</th>\n",
              "      <th>Document</th>\n",
              "      <th>Embedding Length</th>\n",
              "    </tr>\n",
              "  </thead>\n",
              "  <tbody>\n",
              "    <tr>\n",
              "      <th>0</th>\n",
              "      <td>RoR4XJw8wIc</td>\n",
              "      <td>LangChain is a popular Python framework for bu...</td>\n",
              "      <td>768</td>\n",
              "    </tr>\n",
              "    <tr>\n",
              "      <th>1</th>\n",
              "      <td>3E0dqwQwX4k</td>\n",
              "      <td>This video outlines a system for effective pro...</td>\n",
              "      <td>768</td>\n",
              "    </tr>\n",
              "    <tr>\n",
              "      <th>2</th>\n",
              "      <td>eE6yvtKLwvk</td>\n",
              "      <td>This video transcript provides a roadmap for l...</td>\n",
              "      <td>768</td>\n",
              "    </tr>\n",
              "  </tbody>\n",
              "</table>\n",
              "</div>\n",
              "    <div class=\"colab-df-buttons\">\n",
              "\n",
              "  <div class=\"colab-df-container\">\n",
              "    <button class=\"colab-df-convert\" onclick=\"convertToInteractive('df-c999b45d-496c-47f5-b76c-27a45c4aedd7')\"\n",
              "            title=\"Convert this dataframe to an interactive table.\"\n",
              "            style=\"display:none;\">\n",
              "\n",
              "  <svg xmlns=\"http://www.w3.org/2000/svg\" height=\"24px\" viewBox=\"0 -960 960 960\">\n",
              "    <path d=\"M120-120v-720h720v720H120Zm60-500h600v-160H180v160Zm220 220h160v-160H400v160Zm0 220h160v-160H400v160ZM180-400h160v-160H180v160Zm440 0h160v-160H620v160ZM180-180h160v-160H180v160Zm440 0h160v-160H620v160Z\"/>\n",
              "  </svg>\n",
              "    </button>\n",
              "\n",
              "  <style>\n",
              "    .colab-df-container {\n",
              "      display:flex;\n",
              "      gap: 12px;\n",
              "    }\n",
              "\n",
              "    .colab-df-convert {\n",
              "      background-color: #E8F0FE;\n",
              "      border: none;\n",
              "      border-radius: 50%;\n",
              "      cursor: pointer;\n",
              "      display: none;\n",
              "      fill: #1967D2;\n",
              "      height: 32px;\n",
              "      padding: 0 0 0 0;\n",
              "      width: 32px;\n",
              "    }\n",
              "\n",
              "    .colab-df-convert:hover {\n",
              "      background-color: #E2EBFA;\n",
              "      box-shadow: 0px 1px 2px rgba(60, 64, 67, 0.3), 0px 1px 3px 1px rgba(60, 64, 67, 0.15);\n",
              "      fill: #174EA6;\n",
              "    }\n",
              "\n",
              "    .colab-df-buttons div {\n",
              "      margin-bottom: 4px;\n",
              "    }\n",
              "\n",
              "    [theme=dark] .colab-df-convert {\n",
              "      background-color: #3B4455;\n",
              "      fill: #D2E3FC;\n",
              "    }\n",
              "\n",
              "    [theme=dark] .colab-df-convert:hover {\n",
              "      background-color: #434B5C;\n",
              "      box-shadow: 0px 1px 3px 1px rgba(0, 0, 0, 0.15);\n",
              "      filter: drop-shadow(0px 1px 2px rgba(0, 0, 0, 0.3));\n",
              "      fill: #FFFFFF;\n",
              "    }\n",
              "  </style>\n",
              "\n",
              "    <script>\n",
              "      const buttonEl =\n",
              "        document.querySelector('#df-c999b45d-496c-47f5-b76c-27a45c4aedd7 button.colab-df-convert');\n",
              "      buttonEl.style.display =\n",
              "        google.colab.kernel.accessAllowed ? 'block' : 'none';\n",
              "\n",
              "      async function convertToInteractive(key) {\n",
              "        const element = document.querySelector('#df-c999b45d-496c-47f5-b76c-27a45c4aedd7');\n",
              "        const dataTable =\n",
              "          await google.colab.kernel.invokeFunction('convertToInteractive',\n",
              "                                                    [key], {});\n",
              "        if (!dataTable) return;\n",
              "\n",
              "        const docLinkHtml = 'Like what you see? Visit the ' +\n",
              "          '<a target=\"_blank\" href=https://colab.research.google.com/notebooks/data_table.ipynb>data table notebook</a>'\n",
              "          + ' to learn more about interactive tables.';\n",
              "        element.innerHTML = '';\n",
              "        dataTable['output_type'] = 'display_data';\n",
              "        await google.colab.output.renderOutput(dataTable, element);\n",
              "        const docLink = document.createElement('div');\n",
              "        docLink.innerHTML = docLinkHtml;\n",
              "        element.appendChild(docLink);\n",
              "      }\n",
              "    </script>\n",
              "  </div>\n",
              "\n",
              "\n",
              "    <div id=\"df-e6627a79-24b0-4de7-b25c-077116c8dc01\">\n",
              "      <button class=\"colab-df-quickchart\" onclick=\"quickchart('df-e6627a79-24b0-4de7-b25c-077116c8dc01')\"\n",
              "                title=\"Suggest charts\"\n",
              "                style=\"display:none;\">\n",
              "\n",
              "<svg xmlns=\"http://www.w3.org/2000/svg\" height=\"24px\"viewBox=\"0 0 24 24\"\n",
              "     width=\"24px\">\n",
              "    <g>\n",
              "        <path d=\"M19 3H5c-1.1 0-2 .9-2 2v14c0 1.1.9 2 2 2h14c1.1 0 2-.9 2-2V5c0-1.1-.9-2-2-2zM9 17H7v-7h2v7zm4 0h-2V7h2v10zm4 0h-2v-4h2v4z\"/>\n",
              "    </g>\n",
              "</svg>\n",
              "      </button>\n",
              "\n",
              "<style>\n",
              "  .colab-df-quickchart {\n",
              "      --bg-color: #E8F0FE;\n",
              "      --fill-color: #1967D2;\n",
              "      --hover-bg-color: #E2EBFA;\n",
              "      --hover-fill-color: #174EA6;\n",
              "      --disabled-fill-color: #AAA;\n",
              "      --disabled-bg-color: #DDD;\n",
              "  }\n",
              "\n",
              "  [theme=dark] .colab-df-quickchart {\n",
              "      --bg-color: #3B4455;\n",
              "      --fill-color: #D2E3FC;\n",
              "      --hover-bg-color: #434B5C;\n",
              "      --hover-fill-color: #FFFFFF;\n",
              "      --disabled-bg-color: #3B4455;\n",
              "      --disabled-fill-color: #666;\n",
              "  }\n",
              "\n",
              "  .colab-df-quickchart {\n",
              "    background-color: var(--bg-color);\n",
              "    border: none;\n",
              "    border-radius: 50%;\n",
              "    cursor: pointer;\n",
              "    display: none;\n",
              "    fill: var(--fill-color);\n",
              "    height: 32px;\n",
              "    padding: 0;\n",
              "    width: 32px;\n",
              "  }\n",
              "\n",
              "  .colab-df-quickchart:hover {\n",
              "    background-color: var(--hover-bg-color);\n",
              "    box-shadow: 0 1px 2px rgba(60, 64, 67, 0.3), 0 1px 3px 1px rgba(60, 64, 67, 0.15);\n",
              "    fill: var(--button-hover-fill-color);\n",
              "  }\n",
              "\n",
              "  .colab-df-quickchart-complete:disabled,\n",
              "  .colab-df-quickchart-complete:disabled:hover {\n",
              "    background-color: var(--disabled-bg-color);\n",
              "    fill: var(--disabled-fill-color);\n",
              "    box-shadow: none;\n",
              "  }\n",
              "\n",
              "  .colab-df-spinner {\n",
              "    border: 2px solid var(--fill-color);\n",
              "    border-color: transparent;\n",
              "    border-bottom-color: var(--fill-color);\n",
              "    animation:\n",
              "      spin 1s steps(1) infinite;\n",
              "  }\n",
              "\n",
              "  @keyframes spin {\n",
              "    0% {\n",
              "      border-color: transparent;\n",
              "      border-bottom-color: var(--fill-color);\n",
              "      border-left-color: var(--fill-color);\n",
              "    }\n",
              "    20% {\n",
              "      border-color: transparent;\n",
              "      border-left-color: var(--fill-color);\n",
              "      border-top-color: var(--fill-color);\n",
              "    }\n",
              "    30% {\n",
              "      border-color: transparent;\n",
              "      border-left-color: var(--fill-color);\n",
              "      border-top-color: var(--fill-color);\n",
              "      border-right-color: var(--fill-color);\n",
              "    }\n",
              "    40% {\n",
              "      border-color: transparent;\n",
              "      border-right-color: var(--fill-color);\n",
              "      border-top-color: var(--fill-color);\n",
              "    }\n",
              "    60% {\n",
              "      border-color: transparent;\n",
              "      border-right-color: var(--fill-color);\n",
              "    }\n",
              "    80% {\n",
              "      border-color: transparent;\n",
              "      border-right-color: var(--fill-color);\n",
              "      border-bottom-color: var(--fill-color);\n",
              "    }\n",
              "    90% {\n",
              "      border-color: transparent;\n",
              "      border-bottom-color: var(--fill-color);\n",
              "    }\n",
              "  }\n",
              "</style>\n",
              "\n",
              "      <script>\n",
              "        async function quickchart(key) {\n",
              "          const quickchartButtonEl =\n",
              "            document.querySelector('#' + key + ' button');\n",
              "          quickchartButtonEl.disabled = true;  // To prevent multiple clicks.\n",
              "          quickchartButtonEl.classList.add('colab-df-spinner');\n",
              "          try {\n",
              "            const charts = await google.colab.kernel.invokeFunction(\n",
              "                'suggestCharts', [key], {});\n",
              "          } catch (error) {\n",
              "            console.error('Error during call to suggestCharts:', error);\n",
              "          }\n",
              "          quickchartButtonEl.classList.remove('colab-df-spinner');\n",
              "          quickchartButtonEl.classList.add('colab-df-quickchart-complete');\n",
              "        }\n",
              "        (() => {\n",
              "          let quickchartButtonEl =\n",
              "            document.querySelector('#df-e6627a79-24b0-4de7-b25c-077116c8dc01 button');\n",
              "          quickchartButtonEl.style.display =\n",
              "            google.colab.kernel.accessAllowed ? 'block' : 'none';\n",
              "        })();\n",
              "      </script>\n",
              "    </div>\n",
              "\n",
              "    </div>\n",
              "  </div>\n"
            ],
            "application/vnd.google.colaboratory.intrinsic+json": {
              "type": "dataframe",
              "variable_name": "df",
              "summary": "{\n  \"name\": \"df\",\n  \"rows\": 3,\n  \"fields\": [\n    {\n      \"column\": \"ID\",\n      \"properties\": {\n        \"dtype\": \"string\",\n        \"num_unique_values\": 3,\n        \"samples\": [\n          \"RoR4XJw8wIc\",\n          \"3E0dqwQwX4k\",\n          \"eE6yvtKLwvk\"\n        ],\n        \"semantic_type\": \"\",\n        \"description\": \"\"\n      }\n    },\n    {\n      \"column\": \"Document\",\n      \"properties\": {\n        \"dtype\": \"string\",\n        \"num_unique_values\": 3,\n        \"samples\": [\n          \"LangChain is a popular Python framework for building AI applications with large language models (LLMs).  Key features and benefits include:\\n\\n* **Ease of building end-to-end LLM applications:**  It simplifies the process of combining LLMs with various data sources (databases, PDFs, emails), managing prompts, storing conversation history, and integrating multiple models or external tools.\\n\\n* **Composability:** It allows developers to combine different components (LLMs, prompts, memory, indices, agents) in a modular and flexible way.\\n\\n* **Six Key Modules:**\\n    * **LLMs:** Provides a unified interface for accessing various LLMs (OpenAI, Hugging Face, Cohere, etc.).\\n    * **Prompts:** Offers tools for prompt management, optimization, and serialization.\\n    * **Chains:** Enables sequences of LLM calls, beyond single interactions.\\n    * **Memory:** Provides a standard interface and implementations for storing conversation history.\\n    * **Indices:** Includes functions for integrating LLMs with user data via document loaders and vector stores.\\n    * **Agents & Tools:** Allows creating agents that use external tools (Google Search, Wikipedia, calculators) to enhance capabilities.\\n\\n* **Rapid Growth and Community Support:**  LangChain has quickly gained popularity (20,000+ GitHub stars) and a strong community.  Recent Series A funding further validates its potential.\\n\",\n          \"This video outlines a system for effective programming learning, focusing on retention and application rather than just memorization.  Key points include:\\n\\n**1. Define a Specific Goal:** Instead of vaguely aiming to \\\"learn to code,\\\" set a concrete, achievable goal (e.g., build a real-time object detection system). This provides focus and direction for learning.\\n\\n**2. Create a Roadmap:** Research the topic, using resources like YouTube, Medium articles, and official documentation, to create a structured learning plan.  Don't learn randomly.\\n\\n**3. Utilize a Knowledge Management Tool (like Recall):**  The speaker advocates for using a tool like Recall to summarize content, create a unified knowledge base, and track progress.  This helps organize and connect learned information.  Key features highlighted are summarization, question generation, and augmented browsing (automatically connecting related concepts).\\n\\n**4. Track Progress Consistently:**  Visual tracking of progress is crucial for motivation.  This involves documenting daily activities, resources used, and future steps.  Even simple daily journal entries are recommended to build discipline.\\n\\n**5. Constantly Challenge Yourself:**  True learning involves applying knowledge, not just passively understanding concepts.  The speaker suggests using AI (within Recall) to generate challenging quiz questions and immediately implementing new concepts through coding, even if it leads to failure.  Errors are seen as learning opportunities.\\n\\n**6. Leverage Spaced Repetition:** The system incorporates spaced repetition to review concepts just before they're about to be forgotten. This strengthens problem-solving skills.\\n\\n**7. Build Interconnected Knowledge:**  Learning should be viewed as building a web of interconnected concepts, not just filling a bucket with information.  This involves actively making connections between different topics.  The speaker demonstrates this within Recall by manually linking related concepts.\\n\\n**8.  The 4-Step Learning Process:** Learn, Practice, Apply, Review.  The emphasis is on the often-neglected \\\"Review\\\" step, facilitated by tools like Recall's spaced repetition features.\\n\\n**9.  Methodology over Talent:** The speaker argues that consistent methodology, focusing on retention and application, is more important than raw talent for long-term success in programming.\\n\",\n          \"This video transcript provides a roadmap for learning AI and machine learning, categorized into key areas and recommending specific resources. Here's a summary of the key points:\\n\\n\\n**I. Programming and Software Engineering:**\\n\\n* **Python:**  Essential for AI, used extensively in machine learning and AI infrastructure.  The speaker recommends the \\\"Learn Python\\\" course (freeCodeCamp), \\\"Python for Everybody\\\" specialization (Coursera), HackerRank, and LeetCode for practice and interview prep.  Neat Code is suggested for data structures, algorithms, and system design.  Harvard's CS50 is recommended for complete beginners.  **Key takeaway: Practice is paramount.**\\n\\n**II. Maths and Stats:**\\n\\n* **Essential Math Skills:**  While some argue it's not strictly necessary, the speaker emphasizes a strong foundation in statistics, linear algebra, and calculus for advanced AI work.  They recommend:\\n    * *Practical Statistics for Data Science* (textbook): Covers statistics applied to data science, ML, and AI.\\n    * *Mathematics for Machine Learning* (textbook): Covers linear algebra and calculus relevant to ML.\\n    * *Mathematics for Machine Learning and Deep Learning* specialization (Coursera):  A course focused on relevant math concepts.\\n\\n**III. Machine Learning:**\\n\\n* **Foundational Knowledge:**  The speaker highlights the importance of solid machine learning knowledge.  Resources include:\\n    * *Hands-On Machine Learning with Scikit-Learn, Keras & TensorFlow* (textbook):  The speaker's top recommendation, covering fundamentals, applications, and advanced topics.\\n    * *Machine Learning Specialization* (Coursera):  A highly-rated course by Andrew Ng.\\n    * *The 100-Page Machine Learning Book*:  A concise overview for quick reference and learning new concepts.\\n    * *Elements of Statistical Learning*:  A more traditional, in-depth text focused on statistical learning theory.\\n    * *Zero to Mastery's Complete AI, Machine Learning & Data Science Boot Camp*:  A boot camp focused on project-based learning and career preparation.\\n\\n**IV. Deep Learning and LLMs:**\\n\\n* **Deep Learning Libraries:**  PyTorch is recommended over TensorFlow due to its prevalence in research and industry.\\n* **Key Resources:**\\n    * *Deep Learning Specialization* (Coursera):  Andrew Ng's course covering CNNs, RNNs, and an introduction to LLMs.\\n    * *Introduction to LLMs* video (Andrej Karpathy): A high-level overview of the current LLM landscape.\\n    * *Neural Networks: Zero to Hero* course (Andrej Karpathy):  A course building a GPT model from scratch.\\n    * *Hands-On Large Language Models* (textbook): A textbook by Jay Alammar (author of the popular \\\"Illustrated Transformer\\\" blog post) focusing on LLMs and transformers.\\n\\n**V. AI Engineering:**\\n\\n* **Productionizing AI:**  This section focuses on deploying AI models for real-world applications.  The speaker recommends:\\n    * *Practical MLOps*:  Covers productionizing traditional ML algorithms.\\n    * *AI Engineering* (textbook): A book by Chip Huyen, focusing on deploying AI/ML systems.\\n\\n\\n**Overall Recommendations:**\\n\\n* **Prioritize Practice:**  The speaker stresses the importance of hands-on experience through projects.\\n* **Start with Fundamentals:**  Begin with basic programming and mathematics before tackling advanced topics.\\n* **Iterative Learning:**  Focus on concrete projects and learn on demand rather than trying to learn everything at once.\\n* **Personalized Coaching:** The speaker also offers personalized coaching services.\\n\\n\\nThe speaker emphasizes that this is a comprehensive but not exhaustive list.  The core message is to choose resources that align with your learning style and focus on practical application.\\n\"\n        ],\n        \"semantic_type\": \"\",\n        \"description\": \"\"\n      }\n    },\n    {\n      \"column\": \"Embedding Length\",\n      \"properties\": {\n        \"dtype\": \"number\",\n        \"std\": 0,\n        \"min\": 768,\n        \"max\": 768,\n        \"num_unique_values\": 1,\n        \"samples\": [\n          768\n        ],\n        \"semantic_type\": \"\",\n        \"description\": \"\"\n      }\n    }\n  ]\n}"
            }
          },
          "metadata": {},
          "execution_count": 35
        }
      ]
    },
    {
      "cell_type": "markdown",
      "source": [
        "Search notes"
      ],
      "metadata": {
        "id": "Rp-wA8D8K5KB"
      },
      "id": "Rp-wA8D8K5KB"
    },
    {
      "cell_type": "code",
      "source": [
        "query_text = \"What are the key modules that LangChain provide for developers?\"\n",
        "n_results = 3\n",
        "results = chroma_collection.query(\n",
        "    query_texts=[query_text],\n",
        "    n_results=n_results,\n",
        "    include=['documents', 'distances', 'metadatas']\n",
        ")\n",
        "\n",
        "for i in range(len(results['ids'][0])):\n",
        "  id = results['ids'][0][i]\n",
        "  document = results['documents'][0][i]\n",
        "  print(\"*********************************************************************\")\n",
        "  print(f\"{i+1}. https://youtu.be/{id}\")\n",
        "  print(\"*********************************************************************\")\n",
        "  print(document)"
      ],
      "metadata": {
        "colab": {
          "base_uri": "https://localhost:8080/",
          "height": 1000
        },
        "collapsed": true,
        "id": "zbl1m-3qK6rC",
        "outputId": "dee4bfad-54e8-494e-c0a6-ecf3428ded89"
      },
      "id": "zbl1m-3qK6rC",
      "execution_count": 40,
      "outputs": [
        {
          "output_type": "stream",
          "name": "stdout",
          "text": [
            "*********************************************************************\n",
            "1. https://youtu.be/RoR4XJw8wIc\n",
            "*********************************************************************\n",
            "LangChain is a popular Python framework for building AI applications with large language models (LLMs).  Key features and benefits include:\n",
            "\n",
            "* **Ease of building end-to-end LLM applications:**  It simplifies the process of combining LLMs with various data sources (databases, PDFs, emails), managing prompts, storing conversation history, and integrating multiple models or external tools.\n",
            "\n",
            "* **Composability:** It allows developers to combine different components (LLMs, prompts, memory, indices, agents) in a modular and flexible way.\n",
            "\n",
            "* **Six Key Modules:**\n",
            "    * **LLMs:** Provides a unified interface for accessing various LLMs (OpenAI, Hugging Face, Cohere, etc.).\n",
            "    * **Prompts:** Offers tools for prompt management, optimization, and serialization.\n",
            "    * **Chains:** Enables sequences of LLM calls, beyond single interactions.\n",
            "    * **Memory:** Provides a standard interface and implementations for storing conversation history.\n",
            "    * **Indices:** Includes functions for integrating LLMs with user data via document loaders and vector stores.\n",
            "    * **Agents & Tools:** Allows creating agents that use external tools (Google Search, Wikipedia, calculators) to enhance capabilities.\n",
            "\n",
            "* **Rapid Growth and Community Support:**  LangChain has quickly gained popularity (20,000+ GitHub stars) and a strong community.  Recent Series A funding further validates its potential.\n",
            "\n",
            "*********************************************************************\n",
            "2. https://youtu.be/eE6yvtKLwvk\n",
            "*********************************************************************\n",
            "This video transcript provides a roadmap for learning AI and machine learning, categorized into key areas and recommending specific resources. Here's a summary of the key points:\n",
            "\n",
            "\n",
            "**I. Programming and Software Engineering:**\n",
            "\n",
            "* **Python:**  Essential for AI, used extensively in machine learning and AI infrastructure.  The speaker recommends the \"Learn Python\" course (freeCodeCamp), \"Python for Everybody\" specialization (Coursera), HackerRank, and LeetCode for practice and interview prep.  Neat Code is suggested for data structures, algorithms, and system design.  Harvard's CS50 is recommended for complete beginners.  **Key takeaway: Practice is paramount.**\n",
            "\n",
            "**II. Maths and Stats:**\n",
            "\n",
            "* **Essential Math Skills:**  While some argue it's not strictly necessary, the speaker emphasizes a strong foundation in statistics, linear algebra, and calculus for advanced AI work.  They recommend:\n",
            "    * *Practical Statistics for Data Science* (textbook): Covers statistics applied to data science, ML, and AI.\n",
            "    * *Mathematics for Machine Learning* (textbook): Covers linear algebra and calculus relevant to ML.\n",
            "    * *Mathematics for Machine Learning and Deep Learning* specialization (Coursera):  A course focused on relevant math concepts.\n",
            "\n",
            "**III. Machine Learning:**\n",
            "\n",
            "* **Foundational Knowledge:**  The speaker highlights the importance of solid machine learning knowledge.  Resources include:\n",
            "    * *Hands-On Machine Learning with Scikit-Learn, Keras & TensorFlow* (textbook):  The speaker's top recommendation, covering fundamentals, applications, and advanced topics.\n",
            "    * *Machine Learning Specialization* (Coursera):  A highly-rated course by Andrew Ng.\n",
            "    * *The 100-Page Machine Learning Book*:  A concise overview for quick reference and learning new concepts.\n",
            "    * *Elements of Statistical Learning*:  A more traditional, in-depth text focused on statistical learning theory.\n",
            "    * *Zero to Mastery's Complete AI, Machine Learning & Data Science Boot Camp*:  A boot camp focused on project-based learning and career preparation.\n",
            "\n",
            "**IV. Deep Learning and LLMs:**\n",
            "\n",
            "* **Deep Learning Libraries:**  PyTorch is recommended over TensorFlow due to its prevalence in research and industry.\n",
            "* **Key Resources:**\n",
            "    * *Deep Learning Specialization* (Coursera):  Andrew Ng's course covering CNNs, RNNs, and an introduction to LLMs.\n",
            "    * *Introduction to LLMs* video (Andrej Karpathy): A high-level overview of the current LLM landscape.\n",
            "    * *Neural Networks: Zero to Hero* course (Andrej Karpathy):  A course building a GPT model from scratch.\n",
            "    * *Hands-On Large Language Models* (textbook): A textbook by Jay Alammar (author of the popular \"Illustrated Transformer\" blog post) focusing on LLMs and transformers.\n",
            "\n",
            "**V. AI Engineering:**\n",
            "\n",
            "* **Productionizing AI:**  This section focuses on deploying AI models for real-world applications.  The speaker recommends:\n",
            "    * *Practical MLOps*:  Covers productionizing traditional ML algorithms.\n",
            "    * *AI Engineering* (textbook): A book by Chip Huyen, focusing on deploying AI/ML systems.\n",
            "\n",
            "\n",
            "**Overall Recommendations:**\n",
            "\n",
            "* **Prioritize Practice:**  The speaker stresses the importance of hands-on experience through projects.\n",
            "* **Start with Fundamentals:**  Begin with basic programming and mathematics before tackling advanced topics.\n",
            "* **Iterative Learning:**  Focus on concrete projects and learn on demand rather than trying to learn everything at once.\n",
            "* **Personalized Coaching:** The speaker also offers personalized coaching services.\n",
            "\n",
            "\n",
            "The speaker emphasizes that this is a comprehensive but not exhaustive list.  The core message is to choose resources that align with your learning style and focus on practical application.\n",
            "\n",
            "*********************************************************************\n",
            "3. https://youtu.be/3E0dqwQwX4k\n",
            "*********************************************************************\n",
            "This video outlines a system for effective programming learning, focusing on retention and application rather than just memorization.  Key points include:\n",
            "\n",
            "**1. Define a Specific Goal:** Instead of vaguely aiming to \"learn to code,\" set a concrete, achievable goal (e.g., build a real-time object detection system). This provides focus and direction for learning.\n",
            "\n",
            "**2. Create a Roadmap:** Research the topic, using resources like YouTube, Medium articles, and official documentation, to create a structured learning plan.  Don't learn randomly.\n",
            "\n",
            "**3. Utilize a Knowledge Management Tool (like Recall):**  The speaker advocates for using a tool like Recall to summarize content, create a unified knowledge base, and track progress.  This helps organize and connect learned information.  Key features highlighted are summarization, question generation, and augmented browsing (automatically connecting related concepts).\n",
            "\n",
            "**4. Track Progress Consistently:**  Visual tracking of progress is crucial for motivation.  This involves documenting daily activities, resources used, and future steps.  Even simple daily journal entries are recommended to build discipline.\n",
            "\n",
            "**5. Constantly Challenge Yourself:**  True learning involves applying knowledge, not just passively understanding concepts.  The speaker suggests using AI (within Recall) to generate challenging quiz questions and immediately implementing new concepts through coding, even if it leads to failure.  Errors are seen as learning opportunities.\n",
            "\n",
            "**6. Leverage Spaced Repetition:** The system incorporates spaced repetition to review concepts just before they're about to be forgotten. This strengthens problem-solving skills.\n",
            "\n",
            "**7. Build Interconnected Knowledge:**  Learning should be viewed as building a web of interconnected concepts, not just filling a bucket with information.  This involves actively making connections between different topics.  The speaker demonstrates this within Recall by manually linking related concepts.\n",
            "\n",
            "**8.  The 4-Step Learning Process:** Learn, Practice, Apply, Review.  The emphasis is on the often-neglected \"Review\" step, facilitated by tools like Recall's spaced repetition features.\n",
            "\n",
            "**9.  Methodology over Talent:** The speaker argues that consistent methodology, focusing on retention and application, is more important than raw talent for long-term success in programming.\n",
            "\n"
          ]
        }
      ]
    },
    {
      "cell_type": "code",
      "source": [
        "prompt = \"Answer the following question using document as context.\"\n",
        "prompt += f\"Question: {query_text}\"\n",
        "prompt += f\"Document: {results['documents'][0][0]}\"\n",
        "response = gemini_model.generate_content(prompt, stream=False)\n",
        "print(response.text)"
      ],
      "metadata": {
        "colab": {
          "base_uri": "https://localhost:8080/",
          "height": 53
        },
        "id": "EHct8D3YP4j5",
        "outputId": "133cfc7d-5c3c-49d5-ac1f-74bdbd7e8f28"
      },
      "id": "EHct8D3YP4j5",
      "execution_count": 41,
      "outputs": [
        {
          "output_type": "stream",
          "name": "stdout",
          "text": [
            "LangChain provides six key modules: LLMs, Prompts, Chains, Memory, Indices, and Agents & Tools.\n",
            "\n"
          ]
        }
      ]
    }
  ],
  "metadata": {
    "kernelspec": {
      "display_name": "Python 3 (ipykernel)",
      "language": "python",
      "name": "python3"
    },
    "language_info": {
      "codemirror_mode": {
        "name": "ipython",
        "version": 3
      },
      "file_extension": ".py",
      "mimetype": "text/x-python",
      "name": "python",
      "nbconvert_exporter": "python",
      "pygments_lexer": "ipython3",
      "version": "3.11.7"
    },
    "colab": {
      "provenance": []
    }
  },
  "nbformat": 4,
  "nbformat_minor": 5
}